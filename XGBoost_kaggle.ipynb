{
 "cells": [
  {
   "cell_type": "markdown",
   "id": "4751990a",
   "metadata": {},
   "source": [
    "# CSE 151B Kaggle Competition"
   ]
  },
  {
   "cell_type": "code",
   "execution_count": 303,
   "id": "09e025d5",
   "metadata": {},
   "outputs": [],
   "source": [
    "import numpy as np, pandas as pd\n",
    "import matplotlib.pyplot as plt\n",
    "import ast\n",
    "import random\n",
    "from sklearn.preprocessing import StandardScaler\n",
    "from sklearn.model_selection import train_test_split\n",
    "import xgboost as xgb\n",
    "from sklearn.metrics import mean_squared_error\n",
    "from datetime import datetime\n",
    "import seaborn as sns\n",
    "from sklearn.model_selection import GridSearchCV\n",
    "from scipy.spatial.distance import cdist\n",
    "from math import radians, sin, cos, sqrt, atan2\n",
    "import scipy.stats as stats\n",
    "import geopandas as gpd\n",
    "from shapely.geometry import LineString\n",
    "from sklearn.preprocessing import OneHotEncoder\n",
    "import torch\n",
    "import torch.nn as nn\n",
    "import torch.nn.functional as F\n",
    "from torch.distributions import Categorical\n",
    "import folium\n",
    "import lightgbm as lgb\n",
    "import pickle"
   ]
  },
  {
   "cell_type": "code",
   "execution_count": 2,
   "id": "0287b211",
   "metadata": {},
   "outputs": [],
   "source": [
    "df_tr = pd.read_csv(\"train.csv\")"
   ]
  },
  {
   "cell_type": "code",
   "execution_count": 3,
   "id": "af39ccd0",
   "metadata": {},
   "outputs": [
    {
     "data": {
      "text/plain": [
       "True"
      ]
     },
     "execution_count": 3,
     "metadata": {},
     "output_type": "execute_result"
    }
   ],
   "source": [
    "torch.cuda.is_available()"
   ]
  },
  {
   "cell_type": "markdown",
   "id": "6e37695c",
   "metadata": {},
   "source": [
    "# EDA and Feature Engineering"
   ]
  },
  {
   "cell_type": "code",
   "execution_count": 4,
   "id": "7559c890",
   "metadata": {},
   "outputs": [
    {
     "name": "stdout",
     "output_type": "stream",
     "text": [
      "Percentage of MISSING_DATA = True is 0.00058\n"
     ]
    }
   ],
   "source": [
    "# dropping small amount of data with incomplete gps data since there isn't much\n",
    "num_missing = df_tr['MISSING_DATA'].value_counts()[True]\n",
    "percent = 100*(df_tr['MISSING_DATA'].value_counts()[True] / len(df_tr))\n",
    "print('Percentage of MISSING_DATA = True is {:.5f}'.format(percent))\n",
    "df_tr = df_tr[df_tr['MISSING_DATA']==False]"
   ]
  },
  {
   "cell_type": "code",
   "execution_count": 5,
   "id": "7061ae04",
   "metadata": {},
   "outputs": [],
   "source": [
    "df_tr[\"DAY_TYPE\"].describe() # Only has one unique value so we can drop the column\n",
    "df_tr.drop('DAY_TYPE', axis=1, inplace=True)"
   ]
  },
  {
   "cell_type": "code",
   "execution_count": 6,
   "id": "a3aafce0",
   "metadata": {},
   "outputs": [
    {
     "name": "stdout",
     "output_type": "stream",
     "text": [
      "Duplicate rows:\n",
      "                     TRIP_ID CALL_TYPE  ORIGIN_CALL  ORIGIN_STAND   TAXI_ID  \\\n",
      "302435   1378607552620000403         C          NaN           NaN  20000403   \n",
      "302441   1378607552620000403         C          NaN           NaN  20000403   \n",
      "998727   1391416612620000196         C          NaN           NaN  20000196   \n",
      "998728   1391416612620000196         C          NaN           NaN  20000196   \n",
      "1304114  1397172149620000454         C          NaN           NaN  20000454   \n",
      "1304115  1397172149620000454         C          NaN           NaN  20000454   \n",
      "\n",
      "          TIMESTAMP  MISSING_DATA  \\\n",
      "302435   1378607552         False   \n",
      "302441   1378607552         False   \n",
      "998727   1391416612         False   \n",
      "998728   1391416612         False   \n",
      "1304114  1397172149         False   \n",
      "1304115  1397172149         False   \n",
      "\n",
      "                                                  POLYLINE  \n",
      "302435                                                  []  \n",
      "302441                                                  []  \n",
      "998727                             [[-8.555265,41.180472]]  \n",
      "998728                             [[-8.555265,41.180472]]  \n",
      "1304114  [[-8.618391,41.162067],[-8.6184,41.161446],[-8...  \n",
      "1304115  [[-8.618391,41.162067],[-8.6184,41.161446],[-8...  \n",
      "Number of duplicate rows\n"
     ]
    }
   ],
   "source": [
    "is_duplicate = df_tr.duplicated(keep=False)\n",
    "\n",
    "# Get the duplicate rows\n",
    "duplicate_rows = df_tr[is_duplicate]\n",
    "\n",
    "print(\"Duplicate rows:\")\n",
    "print(duplicate_rows)\n",
    "print(\"Number of duplicate rows\")\n",
    "#drop them\n",
    "df_tr.drop_duplicates(inplace=True)"
   ]
  },
  {
   "cell_type": "code",
   "execution_count": 7,
   "id": "aeac1551",
   "metadata": {},
   "outputs": [],
   "source": [
    "def parse_time(x):\n",
    "  # We are using python's builtin datetime library\n",
    "  # https://docs.python.org/3/library/datetime.html#datetime.date.fromtimestamp\n",
    "  # Each x is essentially a 1 row, 1 column pandas Series\n",
    "    dt = datetime.fromtimestamp(x[\"TIMESTAMP\"])\n",
    "    return dt.year, dt.month, dt.day, dt.hour, dt.weekday()\n",
    "\n",
    "# Because we are assigning multiple values at a time, we need to \"expand\" our computed (year, month, day, hour, weekday) tuples on \n",
    "# the column axis, or axis 1\n",
    "# https://pandas.pydata.org/docs/reference/api/pandas.DataFrame.apply.html\n",
    "df_tr[[\"YR\", \"MON\", \"DAY\", \"HR\", \"WK\"]] = df_tr[[\"TIMESTAMP\"]].apply(parse_time, axis=1, result_type=\"expand\")"
   ]
  },
  {
   "cell_type": "code",
   "execution_count": 8,
   "id": "716b0de2",
   "metadata": {},
   "outputs": [],
   "source": [
    "def calculate_haversine_distance(lon1, lat1, lon2, lat2):\n",
    "    # Convert coordinates from degrees to radians\n",
    "    lon1, lat1, lon2, lat2 = map(radians, [lon1, lat1, lon2, lat2])\n",
    "    dlon = lon2 - lon1\n",
    "    dlat = lat2 - lat1\n",
    "    a = sin(dlat / 2) ** 2 + cos(lat1) * cos(lat2) * sin(dlon / 2) ** 2\n",
    "    c = 2 * atan2(sqrt(a), sqrt(1 - a))\n",
    "    distance = 6371 * c  \n",
    "    return distance"
   ]
  },
  {
   "cell_type": "code",
   "execution_count": 9,
   "id": "b948d5c4",
   "metadata": {},
   "outputs": [],
   "source": [
    "# Matching Test\n",
    "# df_tr = df_tr[df_tr['YR'] != 2014] # 2014 doesn't have months used in public test set\n",
    "# df_tr = df_tr[df_tr['MON'] >= 8] # public test set starts from August"
   ]
  },
  {
   "cell_type": "code",
   "execution_count": 10,
   "id": "58348a0f",
   "metadata": {},
   "outputs": [],
   "source": [
    "# Estimating trip length from Polyline\n",
    "def polyline_to_trip_duration(polyline):\n",
    "    return max(polyline.count(\"[\") - 2, 0) * 15\n",
    "\n",
    "# This code creates a new column, \"LEN\", in our dataframe. The value is\n",
    "# the (polyline_length - 1) * 15, where polyline_length = count(\"[\") - 1\n",
    "df_tr[\"LEN\"] = df_tr[\"POLYLINE\"].apply(polyline_to_trip_duration)"
   ]
  },
  {
   "cell_type": "code",
   "execution_count": 11,
   "id": "1411237e",
   "metadata": {},
   "outputs": [
    {
     "name": "stdout",
     "output_type": "stream",
     "text": [
      "Percentage of trips with zero travel time is 2.13%\n"
     ]
    }
   ],
   "source": [
    "# checking how many trips have time of 0 and dropping\n",
    "percent_zero = 100*(len(df_tr[df_tr['LEN'] == 0]) / len(df_tr))\n",
    "print(\"Percentage of trips with zero travel time is {:.2f}%\".format(percent_zero))\n",
    "df_tr = df_tr[df_tr[\"LEN\"]!= 0] #dropping any trips with travel time of zero"
   ]
  },
  {
   "cell_type": "code",
   "execution_count": 12,
   "id": "7a6e7e11",
   "metadata": {},
   "outputs": [],
   "source": [
    "def categorize_hour(hour):\n",
    "    if hour < 12:  # Morning (0-11)\n",
    "        return 'MORNING'\n",
    "    elif hour >= 12 and hour < 18:  # Afternoon (12-17)\n",
    "        return 'AFTERNOON'\n",
    "    else:  # Evening (18-23)\n",
    "        return 'EVENING'\n",
    "    \n",
    "def get_day_category(day, month, year):\n",
    "    date = datetime(year=year, month=month, day=day)    \n",
    "    holidays = [\n",
    "        (1, 1),     # New Year's Day\n",
    "        (4, 25),    # Liberation Day\n",
    "        (5, 1),     # Labor Day\n",
    "        (6, 10),    # Portugal Day\n",
    "        (8, 15),    # Assumption Day\n",
    "        (10, 5),    # Republic Day\n",
    "        (11, 1),    # All Saints' Day\n",
    "        (12, 1),    # Restoration of Independence\n",
    "        (12, 25)    # Christmas Day\n",
    "    ]\n",
    "    if (day, month) in holidays:\n",
    "        return 'HOLIDAY'\n",
    "    elif date.weekday() >= 5:\n",
    "        return 'WK_END'\n",
    "    else:\n",
    "        return 'WK_DAY'"
   ]
  },
  {
   "cell_type": "code",
   "execution_count": 13,
   "id": "32cf7d12",
   "metadata": {},
   "outputs": [
    {
     "data": {
      "text/html": [
       "<div>\n",
       "<style scoped>\n",
       "    .dataframe tbody tr th:only-of-type {\n",
       "        vertical-align: middle;\n",
       "    }\n",
       "\n",
       "    .dataframe tbody tr th {\n",
       "        vertical-align: top;\n",
       "    }\n",
       "\n",
       "    .dataframe thead th {\n",
       "        text-align: right;\n",
       "    }\n",
       "</style>\n",
       "<table border=\"1\" class=\"dataframe\">\n",
       "  <thead>\n",
       "    <tr style=\"text-align: right;\">\n",
       "      <th></th>\n",
       "      <th>CALL_TYPE</th>\n",
       "      <th>ORIGIN_CALL</th>\n",
       "      <th>ORIGIN_STAND</th>\n",
       "      <th>TAXI_ID</th>\n",
       "      <th>TIMESTAMP</th>\n",
       "      <th>POLYLINE</th>\n",
       "      <th>YR</th>\n",
       "      <th>MON</th>\n",
       "      <th>DAY</th>\n",
       "      <th>HR</th>\n",
       "      <th>WK</th>\n",
       "      <th>LEN</th>\n",
       "    </tr>\n",
       "  </thead>\n",
       "  <tbody>\n",
       "    <tr>\n",
       "      <th>0</th>\n",
       "      <td>C</td>\n",
       "      <td>NaN</td>\n",
       "      <td>NaN</td>\n",
       "      <td>20000589</td>\n",
       "      <td>1372636858</td>\n",
       "      <td>[[-8.618643,41.141412],[-8.618499,41.141376],[...</td>\n",
       "      <td>2013</td>\n",
       "      <td>7</td>\n",
       "      <td>1</td>\n",
       "      <td>0</td>\n",
       "      <td>0</td>\n",
       "      <td>330</td>\n",
       "    </tr>\n",
       "    <tr>\n",
       "      <th>1</th>\n",
       "      <td>B</td>\n",
       "      <td>NaN</td>\n",
       "      <td>7.0</td>\n",
       "      <td>20000596</td>\n",
       "      <td>1372637303</td>\n",
       "      <td>[[-8.639847,41.159826],[-8.640351,41.159871],[...</td>\n",
       "      <td>2013</td>\n",
       "      <td>7</td>\n",
       "      <td>1</td>\n",
       "      <td>0</td>\n",
       "      <td>0</td>\n",
       "      <td>270</td>\n",
       "    </tr>\n",
       "    <tr>\n",
       "      <th>2</th>\n",
       "      <td>C</td>\n",
       "      <td>NaN</td>\n",
       "      <td>NaN</td>\n",
       "      <td>20000320</td>\n",
       "      <td>1372636951</td>\n",
       "      <td>[[-8.612964,41.140359],[-8.613378,41.14035],[-...</td>\n",
       "      <td>2013</td>\n",
       "      <td>7</td>\n",
       "      <td>1</td>\n",
       "      <td>0</td>\n",
       "      <td>0</td>\n",
       "      <td>960</td>\n",
       "    </tr>\n",
       "    <tr>\n",
       "      <th>3</th>\n",
       "      <td>C</td>\n",
       "      <td>NaN</td>\n",
       "      <td>NaN</td>\n",
       "      <td>20000520</td>\n",
       "      <td>1372636854</td>\n",
       "      <td>[[-8.574678,41.151951],[-8.574705,41.151942],[...</td>\n",
       "      <td>2013</td>\n",
       "      <td>7</td>\n",
       "      <td>1</td>\n",
       "      <td>0</td>\n",
       "      <td>0</td>\n",
       "      <td>630</td>\n",
       "    </tr>\n",
       "    <tr>\n",
       "      <th>4</th>\n",
       "      <td>C</td>\n",
       "      <td>NaN</td>\n",
       "      <td>NaN</td>\n",
       "      <td>20000337</td>\n",
       "      <td>1372637091</td>\n",
       "      <td>[[-8.645994,41.18049],[-8.645949,41.180517],[-...</td>\n",
       "      <td>2013</td>\n",
       "      <td>7</td>\n",
       "      <td>1</td>\n",
       "      <td>0</td>\n",
       "      <td>0</td>\n",
       "      <td>420</td>\n",
       "    </tr>\n",
       "  </tbody>\n",
       "</table>\n",
       "</div>"
      ],
      "text/plain": [
       "  CALL_TYPE  ORIGIN_CALL  ORIGIN_STAND   TAXI_ID   TIMESTAMP  \\\n",
       "0         C          NaN           NaN  20000589  1372636858   \n",
       "1         B          NaN           7.0  20000596  1372637303   \n",
       "2         C          NaN           NaN  20000320  1372636951   \n",
       "3         C          NaN           NaN  20000520  1372636854   \n",
       "4         C          NaN           NaN  20000337  1372637091   \n",
       "\n",
       "                                            POLYLINE    YR  MON  DAY  HR  WK  \\\n",
       "0  [[-8.618643,41.141412],[-8.618499,41.141376],[...  2013    7    1   0   0   \n",
       "1  [[-8.639847,41.159826],[-8.640351,41.159871],[...  2013    7    1   0   0   \n",
       "2  [[-8.612964,41.140359],[-8.613378,41.14035],[-...  2013    7    1   0   0   \n",
       "3  [[-8.574678,41.151951],[-8.574705,41.151942],[...  2013    7    1   0   0   \n",
       "4  [[-8.645994,41.18049],[-8.645949,41.180517],[-...  2013    7    1   0   0   \n",
       "\n",
       "   LEN  \n",
       "0  330  \n",
       "1  270  \n",
       "2  960  \n",
       "3  630  \n",
       "4  420  "
      ]
     },
     "execution_count": 13,
     "metadata": {},
     "output_type": "execute_result"
    }
   ],
   "source": [
    "df_tr.drop('MISSING_DATA', axis=1, inplace=True)\n",
    "df_tr.drop('TRIP_ID', axis=1, inplace=True)\n",
    "df_tr.head()"
   ]
  },
  {
   "cell_type": "code",
   "execution_count": 14,
   "id": "fded1c7e",
   "metadata": {},
   "outputs": [],
   "source": [
    "#df_tr.groupby('ORIGIN_CALL', dropna=False)['LEN'].agg(['mean', 'std', 'count']).sort_values(by='count', ascending=False).head(50)\n",
    "#df_tr.groupby('ORIGIN_STAND', dropna=False)['LEN'].agg(['mean', 'std', 'count']).sort_values(by='count', ascending=False).head(50)"
   ]
  },
  {
   "cell_type": "code",
   "execution_count": 15,
   "id": "71ec0cda",
   "metadata": {},
   "outputs": [],
   "source": [
    "# Do One-hot encoding for CALL_TYPE column\n",
    "# df_tr['AVERAGE_CALL'] = df_tr.groupby('CALL_TYPE')['LEN'].transform('mean')\n",
    "# gd1 = df_tr.groupby('CALL_TYPE')['LEN'].mean()\n",
    "# average_len_by_call_type = gd1.to_dict()\n",
    "df_tr = pd.get_dummies(df_tr, columns=['CALL_TYPE'], prefix=['CALL_TYPE'])"
   ]
  },
  {
   "cell_type": "code",
   "execution_count": 16,
   "id": "6851a4bb",
   "metadata": {},
   "outputs": [
    {
     "name": "stderr",
     "output_type": "stream",
     "text": [
      "/tmp/ipykernel_1029/2426100216.py:1: FutureWarning: The default value of numeric_only in DataFrame.corr is deprecated. In a future version, it will default to False. Select only valid columns or specify the value of numeric_only to silence this warning.\n",
      "  correlation_matrix = df_tr.corr()\n"
     ]
    },
    {
     "data": {
      "image/png": "[encoded data removed]",
      "text/plain": [
       "<Figure size 1080x576 with 2 Axes>"
      ]
     },
     "metadata": {
      "needs_background": "light"
     },
     "output_type": "display_data"
    }
   ],
   "source": [
    "correlation_matrix = df_tr.corr()\n",
    "plt.figure(figsize=(15, 8))\n",
    "sns.heatmap(correlation_matrix, annot=True, cmap='coolwarm')\n",
    "plt.title('Correlation Matrix')\n",
    "plt.show()"
   ]
  },
  {
   "cell_type": "code",
   "execution_count": 17,
   "id": "8d99a0ef",
   "metadata": {},
   "outputs": [],
   "source": [
    "def encode_hour(hour):\n",
    "    hour_radians = hour * 2 * np.pi / 24\n",
    "    return np.sin(hour_radians), np.cos(hour_radians)\n",
    "def encode_day(day):\n",
    "    day_rad = hour * 2 * np.pi / 31\n",
    "    return np.sin(day_rad), np.cos(hour_radians)\n",
    "def encode_mon(hour):\n",
    "    hour_radians = hour * 2 * np.pi / 12\n",
    "    return np.sin(hour_radians), np.cos(hour_radians)\n",
    "def encode_wk(wk):\n",
    "    hour_radians = hour * 2 * np.pi / 7\n",
    "    return np.sin(hour_radians), np.cos(hour_radians)"
   ]
  },
  {
   "cell_type": "code",
   "execution_count": 18,
   "id": "91c8f3a2",
   "metadata": {},
   "outputs": [],
   "source": [
    "df_tr['SIN_HR_ANG'],  df_tr['COS_HR_ANG']= encode_hour(df_tr['HR'])\n",
    "df_tr['SIN_MON_ANG'],  df_tr['COS_MON_ANG']= encode_hour(df_tr['MON'])\n",
    "df_tr['SIN_DAY_ANG'],  df_tr['COS_DAY_ANG']= encode_hour(df_tr['DAY'])\n",
    "df_tr['SIN_WK_ANG'],  df_tr['COS_WK_ANG']= encode_hour(df_tr['WK'])"
   ]
  },
  {
   "cell_type": "code",
   "execution_count": 19,
   "id": "21fc2562",
   "metadata": {},
   "outputs": [
    {
     "data": {
      "text/plain": [
       "442"
      ]
     },
     "execution_count": 19,
     "metadata": {},
     "output_type": "execute_result"
    }
   ],
   "source": [
    "df_tr['TAXI_ID'].nunique() # can't get average time by taxi_id if I drop 2014"
   ]
  },
  {
   "cell_type": "code",
   "execution_count": 20,
   "id": "6d756c09",
   "metadata": {},
   "outputs": [
    {
     "data": {
      "text/html": [
       "<div>\n",
       "<style scoped>\n",
       "    .dataframe tbody tr th:only-of-type {\n",
       "        vertical-align: middle;\n",
       "    }\n",
       "\n",
       "    .dataframe tbody tr th {\n",
       "        vertical-align: top;\n",
       "    }\n",
       "\n",
       "    .dataframe thead th {\n",
       "        text-align: right;\n",
       "    }\n",
       "</style>\n",
       "<table border=\"1\" class=\"dataframe\">\n",
       "  <thead>\n",
       "    <tr style=\"text-align: right;\">\n",
       "      <th></th>\n",
       "      <th>ORIGIN_CALL</th>\n",
       "      <th>ORIGIN_STAND</th>\n",
       "      <th>TAXI_ID</th>\n",
       "      <th>TIMESTAMP</th>\n",
       "      <th>POLYLINE</th>\n",
       "      <th>YR</th>\n",
       "      <th>MON</th>\n",
       "      <th>DAY</th>\n",
       "      <th>HR</th>\n",
       "      <th>WK</th>\n",
       "      <th>...</th>\n",
       "      <th>CALL_TYPE_B</th>\n",
       "      <th>CALL_TYPE_C</th>\n",
       "      <th>SIN_HR_ANG</th>\n",
       "      <th>COS_HR_ANG</th>\n",
       "      <th>SIN_MON_ANG</th>\n",
       "      <th>COS_MON_ANG</th>\n",
       "      <th>SIN_DAY_ANG</th>\n",
       "      <th>COS_DAY_ANG</th>\n",
       "      <th>SIN_WK_ANG</th>\n",
       "      <th>COS_WK_ANG</th>\n",
       "    </tr>\n",
       "  </thead>\n",
       "  <tbody>\n",
       "    <tr>\n",
       "      <th>0</th>\n",
       "      <td>NaN</td>\n",
       "      <td>NaN</td>\n",
       "      <td>20000589</td>\n",
       "      <td>1372636858</td>\n",
       "      <td>[[-8.618643,41.141412],[-8.618499,41.141376],[...</td>\n",
       "      <td>2013</td>\n",
       "      <td>7</td>\n",
       "      <td>1</td>\n",
       "      <td>0</td>\n",
       "      <td>0</td>\n",
       "      <td>...</td>\n",
       "      <td>0</td>\n",
       "      <td>1</td>\n",
       "      <td>0.0</td>\n",
       "      <td>1.0</td>\n",
       "      <td>0.965926</td>\n",
       "      <td>-0.258819</td>\n",
       "      <td>0.258819</td>\n",
       "      <td>0.965926</td>\n",
       "      <td>0.0</td>\n",
       "      <td>1.0</td>\n",
       "    </tr>\n",
       "    <tr>\n",
       "      <th>1</th>\n",
       "      <td>NaN</td>\n",
       "      <td>7.0</td>\n",
       "      <td>20000596</td>\n",
       "      <td>1372637303</td>\n",
       "      <td>[[-8.639847,41.159826],[-8.640351,41.159871],[...</td>\n",
       "      <td>2013</td>\n",
       "      <td>7</td>\n",
       "      <td>1</td>\n",
       "      <td>0</td>\n",
       "      <td>0</td>\n",
       "      <td>...</td>\n",
       "      <td>1</td>\n",
       "      <td>0</td>\n",
       "      <td>0.0</td>\n",
       "      <td>1.0</td>\n",
       "      <td>0.965926</td>\n",
       "      <td>-0.258819</td>\n",
       "      <td>0.258819</td>\n",
       "      <td>0.965926</td>\n",
       "      <td>0.0</td>\n",
       "      <td>1.0</td>\n",
       "    </tr>\n",
       "    <tr>\n",
       "      <th>2</th>\n",
       "      <td>NaN</td>\n",
       "      <td>NaN</td>\n",
       "      <td>20000320</td>\n",
       "      <td>1372636951</td>\n",
       "      <td>[[-8.612964,41.140359],[-8.613378,41.14035],[-...</td>\n",
       "      <td>2013</td>\n",
       "      <td>7</td>\n",
       "      <td>1</td>\n",
       "      <td>0</td>\n",
       "      <td>0</td>\n",
       "      <td>...</td>\n",
       "      <td>0</td>\n",
       "      <td>1</td>\n",
       "      <td>0.0</td>\n",
       "      <td>1.0</td>\n",
       "      <td>0.965926</td>\n",
       "      <td>-0.258819</td>\n",
       "      <td>0.258819</td>\n",
       "      <td>0.965926</td>\n",
       "      <td>0.0</td>\n",
       "      <td>1.0</td>\n",
       "    </tr>\n",
       "    <tr>\n",
       "      <th>3</th>\n",
       "      <td>NaN</td>\n",
       "      <td>NaN</td>\n",
       "      <td>20000520</td>\n",
       "      <td>1372636854</td>\n",
       "      <td>[[-8.574678,41.151951],[-8.574705,41.151942],[...</td>\n",
       "      <td>2013</td>\n",
       "      <td>7</td>\n",
       "      <td>1</td>\n",
       "      <td>0</td>\n",
       "      <td>0</td>\n",
       "      <td>...</td>\n",
       "      <td>0</td>\n",
       "      <td>1</td>\n",
       "      <td>0.0</td>\n",
       "      <td>1.0</td>\n",
       "      <td>0.965926</td>\n",
       "      <td>-0.258819</td>\n",
       "      <td>0.258819</td>\n",
       "      <td>0.965926</td>\n",
       "      <td>0.0</td>\n",
       "      <td>1.0</td>\n",
       "    </tr>\n",
       "    <tr>\n",
       "      <th>4</th>\n",
       "      <td>NaN</td>\n",
       "      <td>NaN</td>\n",
       "      <td>20000337</td>\n",
       "      <td>1372637091</td>\n",
       "      <td>[[-8.645994,41.18049],[-8.645949,41.180517],[-...</td>\n",
       "      <td>2013</td>\n",
       "      <td>7</td>\n",
       "      <td>1</td>\n",
       "      <td>0</td>\n",
       "      <td>0</td>\n",
       "      <td>...</td>\n",
       "      <td>0</td>\n",
       "      <td>1</td>\n",
       "      <td>0.0</td>\n",
       "      <td>1.0</td>\n",
       "      <td>0.965926</td>\n",
       "      <td>-0.258819</td>\n",
       "      <td>0.258819</td>\n",
       "      <td>0.965926</td>\n",
       "      <td>0.0</td>\n",
       "      <td>1.0</td>\n",
       "    </tr>\n",
       "  </tbody>\n",
       "</table>\n",
       "<p>5 rows × 22 columns</p>\n",
       "</div>"
      ],
      "text/plain": [
       "   ORIGIN_CALL  ORIGIN_STAND   TAXI_ID   TIMESTAMP  \\\n",
       "0          NaN           NaN  20000589  1372636858   \n",
       "1          NaN           7.0  20000596  1372637303   \n",
       "2          NaN           NaN  20000320  1372636951   \n",
       "3          NaN           NaN  20000520  1372636854   \n",
       "4          NaN           NaN  20000337  1372637091   \n",
       "\n",
       "                                            POLYLINE    YR  MON  DAY  HR  WK  \\\n",
       "0  [[-8.618643,41.141412],[-8.618499,41.141376],[...  2013    7    1   0   0   \n",
       "1  [[-8.639847,41.159826],[-8.640351,41.159871],[...  2013    7    1   0   0   \n",
       "2  [[-8.612964,41.140359],[-8.613378,41.14035],[-...  2013    7    1   0   0   \n",
       "3  [[-8.574678,41.151951],[-8.574705,41.151942],[...  2013    7    1   0   0   \n",
       "4  [[-8.645994,41.18049],[-8.645949,41.180517],[-...  2013    7    1   0   0   \n",
       "\n",
       "   ...  CALL_TYPE_B  CALL_TYPE_C  SIN_HR_ANG  COS_HR_ANG  SIN_MON_ANG  \\\n",
       "0  ...            0            1         0.0         1.0     0.965926   \n",
       "1  ...            1            0         0.0         1.0     0.965926   \n",
       "2  ...            0            1         0.0         1.0     0.965926   \n",
       "3  ...            0            1         0.0         1.0     0.965926   \n",
       "4  ...            0            1         0.0         1.0     0.965926   \n",
       "\n",
       "   COS_MON_ANG  SIN_DAY_ANG  COS_DAY_ANG  SIN_WK_ANG  COS_WK_ANG  \n",
       "0    -0.258819     0.258819     0.965926         0.0         1.0  \n",
       "1    -0.258819     0.258819     0.965926         0.0         1.0  \n",
       "2    -0.258819     0.258819     0.965926         0.0         1.0  \n",
       "3    -0.258819     0.258819     0.965926         0.0         1.0  \n",
       "4    -0.258819     0.258819     0.965926         0.0         1.0  \n",
       "\n",
       "[5 rows x 22 columns]"
      ]
     },
     "execution_count": 20,
     "metadata": {},
     "output_type": "execute_result"
    }
   ],
   "source": [
    "# statistics of non_categorical columns\n",
    "df_tr.head()"
   ]
  },
  {
   "cell_type": "code",
   "execution_count": 21,
   "id": "250bbab4",
   "metadata": {},
   "outputs": [
    {
     "data": {
      "image/png": "[encoded data removed]",
      "text/plain": [
       "<Figure size 432x288 with 1 Axes>"
      ]
     },
     "metadata": {
      "needs_background": "light"
     },
     "output_type": "display_data"
    }
   ],
   "source": [
    "sns.histplot(data=df_tr, x=\"LEN\", bins=500)\n",
    "plt.xlim(0, 5000)\n",
    "plt.show() # right skewed histogram->peak at around ~400"
   ]
  },
  {
   "cell_type": "code",
   "execution_count": 22,
   "id": "fc49f04c",
   "metadata": {},
   "outputs": [
    {
     "data": {
      "image/png": "[encoded data removed]",
      "text/plain": [
       "<Figure size 432x288 with 1 Axes>"
      ]
     },
     "metadata": {
      "needs_background": "light"
     },
     "output_type": "display_data"
    }
   ],
   "source": [
    "sns.histplot(data=df_tr, x=\"HR\", bins=25)\n",
    "plt.show() # right skewed histogram->peak at around ~400"
   ]
  },
  {
   "cell_type": "code",
   "execution_count": 23,
   "id": "21147ec9",
   "metadata": {},
   "outputs": [
    {
     "data": {
      "image/png": "[encoded data removed]",
      "text/plain": [
       "<Figure size 432x288 with 1 Axes>"
      ]
     },
     "metadata": {
      "needs_background": "light"
     },
     "output_type": "display_data"
    }
   ],
   "source": [
    "sns.histplot(data=df_tr, x=\"DAY\", bins=25)\n",
    "plt.show() # right skewed histogram->peak at around ~400"
   ]
  },
  {
   "cell_type": "code",
   "execution_count": 24,
   "id": "29464653",
   "metadata": {},
   "outputs": [
    {
     "data": {
      "image/png": "[encoded data removed]",
      "text/plain": [
       "<Figure size 432x288 with 1 Axes>"
      ]
     },
     "metadata": {
      "needs_background": "light"
     },
     "output_type": "display_data"
    }
   ],
   "source": [
    "sns.histplot(data=df_tr, x=\"WK\", bins=25)\n",
    "plt.show() # right skewed histogram->peak at around ~400"
   ]
  },
  {
   "cell_type": "code",
   "execution_count": 25,
   "id": "911a1f26",
   "metadata": {},
   "outputs": [
    {
     "data": {
      "image/png": "[encoded data removed]",
      "text/plain": [
       "<Figure size 432x288 with 1 Axes>"
      ]
     },
     "metadata": {
      "needs_background": "light"
     },
     "output_type": "display_data"
    }
   ],
   "source": [
    "sns.histplot(data=df_tr, x=\"MON\", bins=25)\n",
    "plt.show() # right skewed histogram->peak at around ~400"
   ]
  },
  {
   "cell_type": "code",
   "execution_count": 101,
   "id": "ea2c979b",
   "metadata": {},
   "outputs": [
    {
     "data": {
      "image/png": "[encoded data removed]",
      "text/plain": [
       "<Figure size 432x288 with 1 Axes>"
      ]
     },
     "metadata": {
      "needs_background": "light"
     },
     "output_type": "display_data"
    }
   ],
   "source": [
    "sns.histplot(data=df_tr, x=\"LEN\", bins=500)\n",
    "plt.show() # right skewed histogram->peak at around ~400"
   ]
  },
  {
   "cell_type": "code",
   "execution_count": null,
   "id": "d7ad80bd",
   "metadata": {},
   "outputs": [],
   "source": [
    "# Clipping outliers\n",
    "upper_lim = df_tr['LEN'].quantile(0.99) \n",
    "lower_lim = df_tr['LEN'].quantile(0.01) \n",
    "df_tr = df_tr[(df_tr['LEN'] < upper_lim) & (df_tr['LEN'] >= lower_lim)] # can mess with this range"
   ]
  },
  {
   "cell_type": "code",
   "execution_count": null,
   "id": "ee896fad",
   "metadata": {},
   "outputs": [],
   "source": [
    "((df_tr['ORIGIN_STAND'].value_counts(dropna=False)/len(df_tr))*100).head(50)"
   ]
  },
  {
   "cell_type": "code",
   "execution_count": null,
   "id": "46766536",
   "metadata": {},
   "outputs": [],
   "source": [
    "# Getting the distribution of trip position for some trips ********************\n",
    "# First get latitude and logitude columns[\n",
    "coordinates = [ast.literal_eval(coord) for i, coord in enumerate(df_tr['POLYLINE']) if i % 5 == 0]\n",
    "flat_coordinates = [coord for sublist in coordinates for coord in sublist]\n",
    "\n",
    "longitude = np.array([coord[0] for coord in flat_coordinates], dtype=float)\n",
    "latitude = np.array([coord[1] for coord in flat_coordinates], dtype=float)\n",
    "\n",
    "sample_size = len(df_tr)\n",
    "indices = np.random.choice(len(latitude), size=sample_size, replace=False)\n",
    "latitude_sample = latitude[indices]\n",
    "longitude_sample = longitude[indices]\n",
    "\n",
    "plt.hexbin(longitude_sample, latitude_sample, gridsize=30, cmap='coolwarm', bins='log')\n",
    "plt.colorbar(label='Count')\n",
    "plt.title('Heatmap of Latitude and Longitude')\n",
    "plt.xlabel('Longitude')\n",
    "plt.ylabel('Latitude')\n",
    "plt.xlim(min(longitude_sample), max(longitude_sample))\n",
    "plt.ylim(min(latitude_sample), max(latitude_sample))\n",
    "plt.show()"
   ]
  },
  {
   "cell_type": "code",
   "execution_count": null,
   "id": "c7265894",
   "metadata": {},
   "outputs": [],
   "source": [
    "# checking statistics of various columns\n",
    "df_tr[\"CALL_TYPE\"].describe()"
   ]
  },
  {
   "cell_type": "code",
   "execution_count": null,
   "id": "92e800ed",
   "metadata": {},
   "outputs": [],
   "source": [
    "unique = df_tr[\"ORIGIN_CALL\"].nunique()\n",
    "print(unique)"
   ]
  },
  {
   "cell_type": "code",
   "execution_count": null,
   "id": "ce66ccf0",
   "metadata": {},
   "outputs": [],
   "source": [
    "unique = df_tr[\"ORIGIN_STAND\"].nunique()\n",
    "print(unique)"
   ]
  },
  {
   "cell_type": "code",
   "execution_count": null,
   "id": "b2459c47",
   "metadata": {},
   "outputs": [],
   "source": [
    "# Getting the number of NaN's in ORIGIN_STAND and ORIGIN_CALL\n",
    "n = df_tr[\"ORIGIN_STAND\"].isna().sum()\n",
    "L = len(df_tr)\n",
    "per = 100*(n/L)\n",
    "print(\"ORIGIN_STAND column is {:.2f}% NaN\".format(per)) # keep?\n",
    "n = df_tr[\"ORIGIN_CALL\"].isna().sum()\n",
    "per = 100*(n/L)\n",
    "print(\"ORIGIN_CALL column is {:.2f}% NaN\".format(per)) # drop??"
   ]
  },
  {
   "cell_type": "code",
   "execution_count": null,
   "id": "607b9057",
   "metadata": {},
   "outputs": [],
   "source": [
    "#df_tr = pd.get_dummies(df_tr, columns=['ORIGIN_STAND'], dummy_na=True, prefix='STAND') // MADE WORSE!!!!"
   ]
  },
  {
   "cell_type": "code",
   "execution_count": null,
   "id": "1c4aa46e",
   "metadata": {},
   "outputs": [],
   "source": [
    "porto_coordinates = [41.1496, -8.6109]  # Coordinates of Porto\n",
    "map_porto = folium.Map(location=porto_coordinates, zoom_start=13)\n",
    "for index, row in meta.iterrows():\n",
    "    marker = folium.Marker(location=[row['Longitude'], row['Latitude']],\n",
    "                           popup=row['ID'],\n",
    "                           icon=folium.Icon(color='red', icon='info-sign'))\n",
    "    marker.add_to(map_porto)\n",
    "#df_tr['ORIGIN_STAND'] = df_tr['ORIGIN_STAND'].fillna(0)"
   ]
  },
  {
   "cell_type": "code",
   "execution_count": null,
   "id": "e57ad989",
   "metadata": {},
   "outputs": [],
   "source": [
    "# df_tr = df_tr.sample(frac=0.5, random_state=20)\n",
    "#df_tr['TAXI_ID'] = df_tr['TAXI_ID'].astype(str).str[-3:].astype(int) # extract last 3 digits"
   ]
  },
  {
   "cell_type": "code",
   "execution_count": null,
   "id": "a273e63e",
   "metadata": {},
   "outputs": [],
   "source": [
    "df_tr['LONG'] = df_tr['POLYLINE'].apply(lambda x: ast.literal_eval(x)[0][0])\n",
    "df_tr['LAT'] = df_tr['POLYLINE'].apply(lambda x: ast.literal_eval(x)[0][1])"
   ]
  },
  {
   "cell_type": "code",
   "execution_count": null,
   "id": "7594f35c",
   "metadata": {},
   "outputs": [],
   "source": [
    "meta = pd.read_csv('metaData_taxistandsID_name_GPSlocation.csv')"
   ]
  },
  {
   "cell_type": "code",
   "execution_count": null,
   "id": "a5d7b6c2",
   "metadata": {},
   "outputs": [],
   "source": [
    "for index, row in df_sample.iterrows():\n",
    "    initial_coords = [float(row['START_LOG']), float(row['START_LAT'])]\n",
    "    min_distance = float('inf')\n",
    "    closest_stand_id = None\n",
    "    for meta_index, meta_row in meta.iterrows():\n",
    "        lon = float(meta_row['Longitude'])\n",
    "        lat = float(meta_row['Latitude'])\n",
    "        distance = calculate_haversine_distance(initial_coords[0], initial_coords[1], lon, lat)\n",
    "        if distance < min_distance:\n",
    "            min_distance = distance\n",
    "            closest_stand_id = meta_row['ID']\n",
    "    if pd.isna(df_sample.loc[index, 'ORIGIN_STAND']):\n",
    "        df_sample.loc[index, 'ORIGIN_STAND'] = closest_stand_id"
   ]
  },
  {
   "cell_type": "code",
   "execution_count": null,
   "id": "7c4aad76",
   "metadata": {},
   "outputs": [],
   "source": [
    "city_center = [ -8.6110, 41.1471]\n",
    "df_sample['START_DISTANCE'] = df_sample.apply(lambda row: calculate_haversine_distance(row['START_LONG'],\n",
    "                                                                                        row['START_LAT'],\n",
    "                                                                                        city_center[0],\n",
    "                                                                                        city_center[1]), axis=1) \n",
    "                                                                                                       "
   ]
  },
  {
   "cell_type": "code",
   "execution_count": 31,
   "id": "371603f1",
   "metadata": {},
   "outputs": [],
   "source": [
    "df_tr['ORIGIN_CALL_MISSING'] = df_tr['ORIGIN_CALL'].isna().astype(int)\n",
    "df_tr['ORIGIN_STAND_MISSING'] = df_tr['ORIGIN_STAND'].isna().astype(int)\n",
    "#df_tr['ORIGIN_CALL'].fillna(0, inplace=True)\n",
    "#df_tr['ORIGIN_STAND'].fillna(0, inplace=True)"
   ]
  },
  {
   "cell_type": "code",
   "execution_count": null,
   "id": "b50fe5ed",
   "metadata": {},
   "outputs": [],
   "source": [
    "df_tr.head()"
   ]
  },
  {
   "cell_type": "code",
   "execution_count": null,
   "id": "70d147b8",
   "metadata": {},
   "outputs": [],
   "source": [
    "# log len?\n",
    "\n",
    "# df_sample['LEN_LOG'] = np.log(df_sample['LEN'])\n",
    "# df_sample[\"LEN_LOG\"].describe()"
   ]
  },
  {
   "cell_type": "code",
   "execution_count": null,
   "id": "6dcf41b2",
   "metadata": {},
   "outputs": [],
   "source": [
    "df_tr['TIME_OF_DAY'] = df_tr['HR'].apply(categorize_hour)\n",
    "df_tr['TIME_OF_DAY'] = df_tr['TIME_OF_DAY'].astype('category')\n",
    "df_tr = pd.get_dummies(df_tr, columns=['TIME_OF_DAY'], prefix='', prefix_sep='')\n",
    "df_tr['DAY_TYPE'] = df_tr.apply(lambda row: get_day_category(row['DAY'], row['MON'],row['YR']), axis=1)\n",
    "df_tr = pd.get_dummies(df_tr, columns=['DAY_TYPE'], prefix='', prefix_sep='')"
   ]
  },
  {
   "cell_type": "code",
   "execution_count": 27,
   "id": "008c4af9",
   "metadata": {},
   "outputs": [],
   "source": [
    "# new column for average trip time by taxi_ID\n",
    "df_tr['AVERAGE_TAXI'] = df_tr.groupby('TAXI_ID')['LEN'].transform('mean')\n",
    "df_tr['AVERAGE_STAND'] = df_tr.groupby('ORIGIN_STAND', dropna=False)['LEN'].transform('mean')\n",
    "#df_tr['AVERAGE_HR'] = df_sample.groupby('WK')['LEN'].transform('mean')"
   ]
  },
  {
   "cell_type": "code",
   "execution_count": 28,
   "id": "0cd84377",
   "metadata": {},
   "outputs": [],
   "source": [
    "# getting a dict of average trip time by taxi_ID\n",
    "gd1 = df_tr.groupby('TAXI_ID')['LEN'].mean()\n",
    "gd2 = df_tr.groupby('ORIGIN_STAND', dropna=False)['LEN'].mean()\n",
    "#gd3 = df_sample.groupby('HR')['LEN'].mean()\n",
    "average_len_by_taxiID = gd1.to_dict()\n",
    "average_len_by_standID = gd2.to_dict()\n",
    "#average_len_by_HR = gd3.to_dict()"
   ]
  },
  {
   "cell_type": "code",
   "execution_count": 34,
   "id": "07a31504",
   "metadata": {},
   "outputs": [
    {
     "data": {
      "text/plain": [
       "1674151"
      ]
     },
     "execution_count": 34,
     "metadata": {},
     "output_type": "execute_result"
    }
   ],
   "source": [
    "len(df_tr)\n",
    "# df_tr['STAND_MISSING'] = df_tr['ORIGIN_STAND'].isna().astype(int)\n",
    "# df_tr['CALL_MISSING'] = df_tr['ORIGIN_CALL'].isna().astype(int)"
   ]
  },
  {
   "cell_type": "code",
   "execution_count": null,
   "id": "293e262d",
   "metadata": {},
   "outputs": [],
   "source": [
    "correlation_matrix = df_tr.corr()\n",
    "plt.figure(figsize=(15, 8))\n",
    "sns.heatmap(correlation_matrix, annot=True, cmap='coolwarm')\n",
    "plt.title('Correlation Matrix')\n",
    "plt.show()"
   ]
  },
  {
   "cell_type": "markdown",
   "id": "bcee457a",
   "metadata": {},
   "source": [
    "# Model, Training, and Prediction"
   ]
  },
  {
   "cell_type": "markdown",
   "id": "9eb7d1be",
   "metadata": {},
   "source": [
    "XGBoost"
   ]
  },
  {
   "cell_type": "code",
   "execution_count": 286,
   "id": "f50b9156",
   "metadata": {},
   "outputs": [],
   "source": [
    "# Choosing features and getting train/validation split\n",
    "features = [\"CALL_TYPE_A\", \"CALL_TYPE_B\", \"CALL_TYPE_C\", \"ORIGIN_STAND\", \"TAXI_ID\", \"AVERAGE_STAND\",\n",
    "           'AVERAGE_TAXI', \"WK\", \"MON\", \"YR\", \"DAY\", \"HR\", \"ORIGIN_CALL\"]#\"ORIGIN_CALL_MISSING\", \n",
    "            #\"ORIGIN_STAND_MISSING\"]\n",
    "            #\"SIN_HR_ANG\", \"SIN_WK_ANG\", \"SIN_DAY_ANG\", \"SIN_MON_ANG\", \"COS_HR_ANG\", \"COS_DAY_ANG\",\n",
    "           #\"COS_WK_ANG\", \"COS_MON_ANG\"]\n",
    "            #, \"AVERAGE_CALL\",   #\n",
    "\n",
    "#df_tr = df_tr.reset_index()\n",
    "\n",
    "X = df_tr[features].values\n",
    "y = df_tr['LEN'].values\n",
    "#concatenated_column = pd.concat([df_tr[column] for column in features], axis=1)\n",
    "\n",
    "X_train, X_val, y_train, y_val = train_test_split(X, y, test_size=0.45, random_state=42)"
   ]
  },
  {
   "cell_type": "code",
   "execution_count": 294,
   "id": "ba7e2b88",
   "metadata": {},
   "outputs": [
    {
     "name": "stdout",
     "output_type": "stream",
     "text": [
      "CPU times: user 35 s, sys: 8.44 s, total: 43.5 s\n",
      "Wall time: 38.7 s\n"
     ]
    },
    {
     "data": {
      "text/plain": [
       "XGBRegressor(base_score=None, booster=None, callbacks=None,\n",
       "             colsample_bylevel=None, colsample_bynode=None,\n",
       "             colsample_bytree=0.3, early_stopping_rounds=20,\n",
       "             enable_categorical=False, eta=0.01, eval_metric='rmse',\n",
       "             feature_types=None, gamma=None, gpu_id=None, grow_policy=None,\n",
       "             importance_type=None, interaction_constraints=None,\n",
       "             learning_rate=None, max_bin=None, max_cat_threshold=None,\n",
       "             max_cat_to_onehot=None, max_delta_step=None, max_depth=10,\n",
       "             max_leaves=None, min_child_weight=40, missing=nan,\n",
       "             monotone_constraints=None, n_estimators=10000, n_jobs=None,\n",
       "             num_parallel_tree=None, predictor=None, ...)"
      ]
     },
     "execution_count": 294,
     "metadata": {},
     "output_type": "execute_result"
    }
   ],
   "source": [
    "%%time\n",
    "# using XGBoost\n",
    "# current best was using eta=0.01, max_depth=10, colsample_bytree=0.3, seed=42, n_estimators=10000\n",
    "# validation rmse_loss record: 634.16 - predicting raw LEN,  test_size = 0.32\n",
    "# test_size = 0.34/parameters listed above gave current best score on test -> (val_loss=634.77)(test_loss=719.8)\n",
    "# increasing test size slightly improves performance on test set (more generalization)\n",
    "# loss started increasing again at test_size = 0.35 and above\n",
    "\n",
    "\n",
    "xgb_model = xgb.XGBRegressor(eta=0.01, max_depth=10, colsample_bytree=0.3, n_estimators=10000,reg_lambda=0.2,\n",
    "                             reg_alpha=0.1,min_child_weight=40,eval_metric='rmse', early_stopping_rounds=20, \n",
    "                             seed=42, tree_method='gpu_hist')\n",
    "\n",
    "xgb_model.fit(X_train, y_train, eval_set=[(X_val, y_val)], verbose=False)"
   ]
  },
  {
   "cell_type": "markdown",
   "id": "19885389",
   "metadata": {},
   "source": [
    "# Milestone Report Q3"
   ]
  },
  {
   "cell_type": "code",
   "execution_count": 295,
   "id": "4e145dd3",
   "metadata": {},
   "outputs": [
    {
     "name": "stdout",
     "output_type": "stream",
     "text": [
      "Validation RMSE: 630.17\n"
     ]
    },
    {
     "data": {
      "image/png": "[encoded data removed]",
      "text/plain": [
       "<Figure size 432x288 with 1 Axes>"
      ]
     },
     "metadata": {
      "needs_background": "light"
     },
     "output_type": "display_data"
    }
   ],
   "source": [
    "results = xgb_model.evals_result()\n",
    "val_error = results['validation_0']['rmse']\n",
    "print(\"Validation RMSE: {:.2f}\".format(val_error[-1]))\n",
    "plt.plot(range(len(val_error)), val_error)\n",
    "plt.xlabel('Boosting Iterations')\n",
    "plt.ylabel('RMSE')\n",
    "plt.show()"
   ]
  },
  {
   "cell_type": "code",
   "execution_count": 296,
   "id": "da6bac9c",
   "metadata": {},
   "outputs": [
    {
     "data": {
      "image/png": "[encoded data removed]",
      "text/plain": [
       "<Figure size 720x432 with 1 Axes>"
      ]
     },
     "metadata": {
      "needs_background": "light"
     },
     "output_type": "display_data"
    }
   ],
   "source": [
    "importance_scores = xgb_model.feature_importances_\n",
    "sorted_indices = importance_scores.argsort()[::-1]\n",
    "sorted_importances = importance_scores[sorted_indices]\n",
    "feature_names = [features[i] for i in sorted_indices]\n",
    "plt.figure(figsize=(10, 6))\n",
    "plt.barh(range(len(sorted_importances)), sorted_importances, tick_label=feature_names)\n",
    "plt.xlabel('Feature Importance')\n",
    "plt.ylabel('Feature')\n",
    "plt.title('XGBoost Feature Importance')\n",
    "plt.show()"
   ]
  },
  {
   "cell_type": "code",
   "execution_count": null,
   "id": "bab09d17",
   "metadata": {},
   "outputs": [],
   "source": [
    "train_loss = results['validation_0']['rmse']\n",
    "df_tr = df_tr.sample(frac=1, random_state=42)\n",
    "train_indices = X_train[:, 0]\n",
    "df_train_samples = df_tr.loc[train_indices]\n",
    "top_loss_indices = np.argsort(train_loss)[::-1][:10]\n",
    "\n",
    "plt.figure(figsize=(8, 6))\n",
    "for i, index in enumerate(top_loss_indices):\n",
    "    polyline_string = df_tr.at[index, \"POLYLINE\"]\n",
    "    polyline = ast.literal_eval(polyline_string)\n",
    "    lon_lat = np.array(polyline).T\n",
    "    lon = lon_lat[0]\n",
    "    lat = lon_lat[1]\n",
    "    plt.plot(lon, lat, marker='o')\n",
    "\n",
    "# Create the legend using the RMSE loss values\n",
    "legend_labels = [f\"Sample {i+1} (Loss: {train_loss[i]:.2f})\" for i in top_loss_indices]\n",
    "plt.legend(legend_labels)\n",
    "\n",
    "plt.xlabel('Longitude')\n",
    "plt.ylabel('Latitude')\n",
    "plt.title('Trips with Highest Training Loss')\n",
    "plt.show()"
   ]
  },
  {
   "cell_type": "code",
   "execution_count": 301,
   "id": "8f2092bc",
   "metadata": {},
   "outputs": [
    {
     "data": {
      "image/png": "[encoded data removed]",
      "text/plain": [
       "<Figure size 432x288 with 1 Axes>"
      ]
     },
     "metadata": {
      "needs_background": "light"
     },
     "output_type": "display_data"
    }
   ],
   "source": [
    "y_pred = xgb_model.predict(X_train)\n",
    "\n",
    "# Specify the number of samples to visualize\n",
    "num_samples = 10\n",
    "\n",
    "# Randomly select indices for the samples\n",
    "random_indices = np.random.choice(len(X_train), size=num_samples, replace=False)\n",
    "\n",
    "# Obtain the randomly selected samples and corresponding ground truth values\n",
    "selected_samples = X_train[random_indices]\n",
    "selected_targets = y_train[random_indices]\n",
    "selected_predictions = y_pred[random_indices]\n",
    "\n",
    "# Create an array for the x-axis positions\n",
    "x_positions = np.arange(num_samples)\n",
    "\n",
    "# Plot the ground truth and predicted values as bars\n",
    "plt.bar(x_positions, selected_targets, width=0.4, align='center', label='Ground Truth')\n",
    "plt.bar(x_positions + 0.4, selected_predictions, width=0.4, align='center', label='Predictions')\n",
    "\n",
    "# Set the x-axis ticks and labels\n",
    "plt.xticks(x_positions + 0.2, x_positions)\n",
    "plt.xlabel('Sample Index')\n",
    "plt.ylabel('Value')\n",
    "plt.title('Ground Truth vs. Predictions')\n",
    "plt.legend()\n",
    "\n",
    "# Show the bar graph\n",
    "plt.show()\n"
   ]
  },
  {
   "cell_type": "markdown",
   "id": "af81164e",
   "metadata": {},
   "source": [
    "# Test Data"
   ]
  },
  {
   "cell_type": "code",
   "execution_count": 297,
   "id": "8f77151e",
   "metadata": {},
   "outputs": [],
   "source": [
    "# loading test data\n",
    "data = pd.read_csv(\"test_public.csv\")"
   ]
  },
  {
   "cell_type": "code",
   "execution_count": 298,
   "id": "ae050453",
   "metadata": {},
   "outputs": [],
   "source": [
    "# applying transformations\n",
    "data[[\"YR\", \"MON\", \"DAY\", \"HR\", \"WK\"]] = data[[\"TIMESTAMP\"]].apply(parse_time, axis=1, result_type=\"expand\")\n",
    "# data['AVERAGE_CALL'] = data['CALL_TYPE'].map(average_len_by_call_type)\n",
    "data = pd.get_dummies(data, columns=['CALL_TYPE'], prefix=['CALL_TYPE'])\n",
    "#data['TAXI_ID'] = data['TAXI_ID'].astype(str).str[-3:].astype(int)\n",
    "# data['START_LOG'] = data['POLYLINE'].apply(lambda x: eval(x)[0][0])\n",
    "# data['START_LAT'] = data['POLYLINE'].apply(lambda x: eval(x)[0][1])\n",
    "# data['END_LOG'] = data['POLYLINE'].apply(lambda x: eval(x)[-1][0])\n",
    "# data['END_LAT'] = data['POLYLINE'].apply(lambda x: eval(x)[-1][1])\n",
    "#polyline_samples = []\n",
    "# for _, row in df_sample.sample(n=len(data), replace=False).iterrows():\n",
    "#     if not pd.isnull(row['ORIGIN_STAND']):\n",
    "#         stand_id = int(row['ORIGIN_STAND'])\n",
    "#         meta_row = meta[meta['ID'] == stand_id].iloc[0]\n",
    "#         polyline = [meta_row['Longitude'], meta_row['Latitude']]\n",
    "#     else:\n",
    "#         polyline = ast.literal_eval(row['POLYLINE'])[0]\n",
    "#     polyline_samples.append(polyline)\n",
    "# data['START_POS'] = polyline_samples\n",
    "# for index, row in data.iterrows():\n",
    "#     initial_coords = [float(coord) for coord in row['START_POS']]\n",
    "#     min_distance = float('inf')\n",
    "#     closest_stand_id = None\n",
    "#     for meta_index, meta_row in meta.iterrows():\n",
    "#         lon = float(meta_row['Longitude'])\n",
    "#         lat = float(meta_row['Latitude'])\n",
    "#         distance = calculate_haversine_distance(initial_coords[0], initial_coords[1], lon, lat)\n",
    "#         if distance < min_distance:\n",
    "#             min_distance = distance\n",
    "#             closest_stand_id = meta_row['ID']\n",
    "#     if pd.isna(data.loc[index, 'ORIGIN_STAND']):\n",
    "#         data.loc[index, 'ORIGIN_STAND'] = closest_stand_id\n",
    "# data['START_DISTANCE'] = data.apply(lambda row: calculate_haversine_distance(row['START_LOG'],\n",
    "#                                                                                         row['START_LAT'],\n",
    "#                                                                                         city_center[0],\n",
    "#                                                                                         city_center[1]), axis=1) \n",
    "data['ORIGIN_CALL_MISSING'] = data['ORIGIN_CALL'].isna().astype(int)\n",
    "data['ORIGIN_STAND_MISSING'] = data['ORIGIN_STAND'].isna().astype(int)\n",
    "# data['ORIGIN_CALL'].fillna(0, inplace=True)\n",
    "# data['ORIGIN_STAND'].fillna(0, inplace=True)\n",
    "data['AVERAGE_TAXI'] = data['TAXI_ID'].map(average_len_by_taxiID)\n",
    "data['AVERAGE_STAND'] = data['ORIGIN_STAND'].map(average_len_by_standID)\n",
    "\n",
    "# data['SIN_HR_ANG'],  data['COS_HR_ANG']= encode_hour(data['HR'])\n",
    "# data['SIN_MON_ANG'],  data['COS_MON_ANG']= encode_hour(data['MON'])\n",
    "# data['SIN_DAY_ANG'],  data['COS_DAY_ANG']= encode_hour(data['DAY'])\n",
    "# data['SIN_WK_ANG'],  data['COS_WK_ANG']= encode_hour(data['WK'])\n",
    "\n",
    "\n",
    "\n",
    "# data['AVERAGE_HR'] = data['HR'].map(average_len_by_HR)\n",
    "# data['TIME_OF_DAY'] = data['HR'].apply(categorize_hour)\n",
    "# data['TIME_OF_DAY'] = data['TIME_OF_DAY'].astype('category')\n",
    "# data = pd.get_dummies(data, columns=['TIME_OF_DAY'], prefix='', prefix_sep='')\n",
    "# data['DAY_TYPE'] = data.apply(lambda row: get_day_category(row['DAY'], row['MON'],row['YR']), axis=1)\n",
    "# data = pd.get_dummies(data, columns=['DAY_TYPE'], prefix='', prefix_sep='')\n",
    "# data[\"EVENING\"] = 0"
   ]
  },
  {
   "cell_type": "code",
   "execution_count": 299,
   "id": "24e685fe",
   "metadata": {},
   "outputs": [],
   "source": [
    "X_test2 = data[features].values\n",
    "#concatenated_column = pd.concat([data[column] for column in features], axis=1)\n",
    "y_pred2 = xgb_model.predict(X_test2)"
   ]
  },
  {
   "cell_type": "code",
   "execution_count": 300,
   "id": "35fd9092",
   "metadata": {},
   "outputs": [],
   "source": [
    "# writing predicition to csv\n",
    "df = pd.read_csv(\"sampleSubmission.csv\")\n",
    "\n",
    "df[\"TRAVEL_TIME\"] = y_pred2\n",
    "\n",
    "df.to_csv(\"my_pred.csv\", index=None)"
   ]
  },
  {
   "cell_type": "code",
   "execution_count": 304,
   "id": "f4b8a13f",
   "metadata": {},
   "outputs": [],
   "source": [
    "model_filename = 'xgb_model.pkl'\n",
    "with open(model_filename, 'wb') as file:\n",
    "    pickle.dump(xgb_model, file)"
   ]
  },
  {
   "cell_type": "code",
   "execution_count": null,
   "id": "f3530bd8",
   "metadata": {},
   "outputs": [],
   "source": []
  }
 ],
 "metadata": {
  "kernelspec": {
   "display_name": "Python 3 (ipykernel)",
   "language": "python",
   "name": "python3"
  },
  "language_info": {
   "codemirror_mode": {
    "name": "ipython",
    "version": 3
   },
   "file_extension": ".py",
   "mimetype": "text/x-python",
   "name": "python",
   "nbconvert_exporter": "python",
   "pygments_lexer": "ipython3",
   "version": "3.9.5"
  }
 },
 "nbformat": 4,
 "nbformat_minor": 5
}
